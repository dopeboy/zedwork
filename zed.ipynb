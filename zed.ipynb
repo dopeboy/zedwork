{
 "cells": [
  {
   "cell_type": "markdown",
   "id": "c553586b",
   "metadata": {},
   "source": [
    "# Background\n",
    "I'm exploring NFT games and studying how different ones work. I got my hands on Zed (www.zed.run) race data and explore it here.\n",
    "\n",
    "Shout out to hawku (www.hawku.com) for providing the data. Shout out [@donne_martin](https://github.com/donnemartin) for writing the [Titanic notebook](https://github.com/donnemartin/data-science-ipython-notebooks/blob/master/kaggle/titanic.ipynb) that I modeled this one off of.\n",
    "\n",
    "Author: [@manishsinhaha](https://twitter.com/manishsinhaha) / [arithmetic@gmail.com](mailto:arithmetic@gmail.com)"
   ]
  },
  {
   "cell_type": "markdown",
   "id": "adba43ea",
   "metadata": {},
   "source": [
    "# Setup"
   ]
  },
  {
   "cell_type": "code",
   "execution_count": 142,
   "id": "59787cd0",
   "metadata": {},
   "outputs": [
    {
     "data": {
      "image/png": "[encoded data removed]",
      "text/plain": [
       "<Figure size 720x360 with 1 Axes>"
      ]
     },
     "metadata": {
      "needs_background": "light"
     },
     "output_type": "display_data"
    }
   ],
   "source": [
    "import pandas as pd\n",
    "import matplotlib.pyplot as plt\n",
    "import numpy as np\n",
    "import matplotlib.dates as mdates\n",
    "\n",
    "df = pd.read_csv('race_db.csv')\n",
    "\n",
    "# Set the global default size of matplotlib figures\n",
    "plt.rc('figure', figsize=(10, 5))\n",
    "plt.xticks(rotation = 45) # Rotates X-Axis Ticks by 45-degrees\n",
    "\n",
    "# Size of matplotlib figures that contain subplots\n",
    "fizsize_with_subplots = (10, 10)"
   ]
  },
  {
   "cell_type": "markdown",
   "id": "72889167",
   "metadata": {},
   "source": [
    "# Basics"
   ]
  },
  {
   "cell_type": "code",
   "execution_count": 143,
   "id": "de88e1df",
   "metadata": {},
   "outputs": [
    {
     "data": {
      "text/html": [
       "<div>\n",
       "<style scoped>\n",
       "    .dataframe tbody tr th:only-of-type {\n",
       "        vertical-align: middle;\n",
       "    }\n",
       "\n",
       "    .dataframe tbody tr th {\n",
       "        vertical-align: top;\n",
       "    }\n",
       "\n",
       "    .dataframe thead th {\n",
       "        text-align: right;\n",
       "    }\n",
       "</style>\n",
       "<table border=\"1\" class=\"dataframe\">\n",
       "  <thead>\n",
       "    <tr style=\"text-align: right;\">\n",
       "      <th></th>\n",
       "      <th>race_id</th>\n",
       "      <th>start_time</th>\n",
       "      <th>name</th>\n",
       "      <th>distance</th>\n",
       "      <th>class</th>\n",
       "      <th>country</th>\n",
       "      <th>city</th>\n",
       "      <th>weather</th>\n",
       "      <th>fee</th>\n",
       "      <th>prize_pool_first</th>\n",
       "      <th>prize_pool_second</th>\n",
       "      <th>prize_pool_third</th>\n",
       "    </tr>\n",
       "  </thead>\n",
       "  <tbody>\n",
       "    <tr>\n",
       "      <th>0</th>\n",
       "      <td>3SQvsynO</td>\n",
       "      <td>2021-08-01 23:21:38</td>\n",
       "      <td>Stavanger Grand Prix</td>\n",
       "      <td>2000</td>\n",
       "      <td>3</td>\n",
       "      <td>Norway</td>\n",
       "      <td>Stavanger</td>\n",
       "      <td>Sunny</td>\n",
       "      <td>0.0098</td>\n",
       "      <td>0.063504</td>\n",
       "      <td>0.02646</td>\n",
       "      <td>0.015876</td>\n",
       "    </tr>\n",
       "    <tr>\n",
       "      <th>1</th>\n",
       "      <td>i8mNR5v</td>\n",
       "      <td>2021-04-17 14:06:57</td>\n",
       "      <td>The Alpine Cup</td>\n",
       "      <td>1200</td>\n",
       "      <td>4</td>\n",
       "      <td>United Kingdom</td>\n",
       "      <td>Northumberland</td>\n",
       "      <td>Sunny</td>\n",
       "      <td>0.0010</td>\n",
       "      <td>0.007200</td>\n",
       "      <td>0.00240</td>\n",
       "      <td>0.001200</td>\n",
       "    </tr>\n",
       "    <tr>\n",
       "      <th>2</th>\n",
       "      <td>p5EQ9tFp</td>\n",
       "      <td>2021-08-17 00:44:39</td>\n",
       "      <td>Valparaiso El Clásico</td>\n",
       "      <td>1000</td>\n",
       "      <td>5</td>\n",
       "      <td>Chile</td>\n",
       "      <td>Valparaiso</td>\n",
       "      <td>Sunny</td>\n",
       "      <td>0.0031</td>\n",
       "      <td>0.020088</td>\n",
       "      <td>0.00837</td>\n",
       "      <td>0.005022</td>\n",
       "    </tr>\n",
       "    <tr>\n",
       "      <th>3</th>\n",
       "      <td>vviMlMTi</td>\n",
       "      <td>2021-08-13 07:10:00</td>\n",
       "      <td>Manila Gran Copa</td>\n",
       "      <td>1000</td>\n",
       "      <td>1</td>\n",
       "      <td>Philippines</td>\n",
       "      <td>Manila</td>\n",
       "      <td>Sunny</td>\n",
       "      <td>0.0000</td>\n",
       "      <td>0.000480</td>\n",
       "      <td>0.00020</td>\n",
       "      <td>0.000120</td>\n",
       "    </tr>\n",
       "    <tr>\n",
       "      <th>4</th>\n",
       "      <td>I95XTUD</td>\n",
       "      <td>2021-07-07 18:33:43</td>\n",
       "      <td>Cape Town Guineas</td>\n",
       "      <td>1400</td>\n",
       "      <td>5</td>\n",
       "      <td>South Africa</td>\n",
       "      <td>Cape Town</td>\n",
       "      <td>Sunny</td>\n",
       "      <td>0.0021</td>\n",
       "      <td>0.013608</td>\n",
       "      <td>0.00567</td>\n",
       "      <td>0.003402</td>\n",
       "    </tr>\n",
       "  </tbody>\n",
       "</table>\n",
       "</div>"
      ],
      "text/plain": [
       "    race_id           start_time                   name  distance  class  \\\n",
       "0  3SQvsynO  2021-08-01 23:21:38   Stavanger Grand Prix      2000      3   \n",
       "1   i8mNR5v  2021-04-17 14:06:57         The Alpine Cup      1200      4   \n",
       "2  p5EQ9tFp  2021-08-17 00:44:39  Valparaiso El Clásico      1000      5   \n",
       "3  vviMlMTi  2021-08-13 07:10:00       Manila Gran Copa      1000      1   \n",
       "4   I95XTUD  2021-07-07 18:33:43      Cape Town Guineas      1400      5   \n",
       "\n",
       "          country            city weather     fee  prize_pool_first  \\\n",
       "0          Norway       Stavanger   Sunny  0.0098          0.063504   \n",
       "1  United Kingdom  Northumberland   Sunny  0.0010          0.007200   \n",
       "2           Chile      Valparaiso   Sunny  0.0031          0.020088   \n",
       "3     Philippines          Manila   Sunny  0.0000          0.000480   \n",
       "4    South Africa       Cape Town   Sunny  0.0021          0.013608   \n",
       "\n",
       "   prize_pool_second  prize_pool_third  \n",
       "0            0.02646          0.015876  \n",
       "1            0.00240          0.001200  \n",
       "2            0.00837          0.005022  \n",
       "3            0.00020          0.000120  \n",
       "4            0.00567          0.003402  "
      ]
     },
     "execution_count": 143,
     "metadata": {},
     "output_type": "execute_result"
    }
   ],
   "source": [
    "df.head()"
   ]
  },
  {
   "cell_type": "code",
   "execution_count": 144,
   "id": "3ee24150",
   "metadata": {},
   "outputs": [
    {
     "data": {
      "text/html": [
       "<div>\n",
       "<style scoped>\n",
       "    .dataframe tbody tr th:only-of-type {\n",
       "        vertical-align: middle;\n",
       "    }\n",
       "\n",
       "    .dataframe tbody tr th {\n",
       "        vertical-align: top;\n",
       "    }\n",
       "\n",
       "    .dataframe thead th {\n",
       "        text-align: right;\n",
       "    }\n",
       "</style>\n",
       "<table border=\"1\" class=\"dataframe\">\n",
       "  <thead>\n",
       "    <tr style=\"text-align: right;\">\n",
       "      <th></th>\n",
       "      <th>race_id</th>\n",
       "      <th>start_time</th>\n",
       "      <th>name</th>\n",
       "      <th>distance</th>\n",
       "      <th>class</th>\n",
       "      <th>country</th>\n",
       "      <th>city</th>\n",
       "      <th>weather</th>\n",
       "      <th>fee</th>\n",
       "      <th>prize_pool_first</th>\n",
       "      <th>prize_pool_second</th>\n",
       "      <th>prize_pool_third</th>\n",
       "    </tr>\n",
       "  </thead>\n",
       "  <tbody>\n",
       "    <tr>\n",
       "      <th>323915</th>\n",
       "      <td>8VuCmQco</td>\n",
       "      <td>2021-06-12 23:50:48</td>\n",
       "      <td>The Japan Derby Challenge</td>\n",
       "      <td>1200</td>\n",
       "      <td>4</td>\n",
       "      <td>Japan</td>\n",
       "      <td>Edogawa</td>\n",
       "      <td>Sunny</td>\n",
       "      <td>0.0021</td>\n",
       "      <td>0.013608</td>\n",
       "      <td>0.005670</td>\n",
       "      <td>0.003402</td>\n",
       "    </tr>\n",
       "    <tr>\n",
       "      <th>323916</th>\n",
       "      <td>8vudDh</td>\n",
       "      <td>2021-04-09 06:23:03</td>\n",
       "      <td>Royal Wigan Hunt Cup</td>\n",
       "      <td>1200</td>\n",
       "      <td>3</td>\n",
       "      <td>United Kingdom</td>\n",
       "      <td>Wigan</td>\n",
       "      <td>Sunny</td>\n",
       "      <td>0.0048</td>\n",
       "      <td>0.034560</td>\n",
       "      <td>0.011520</td>\n",
       "      <td>0.005760</td>\n",
       "    </tr>\n",
       "    <tr>\n",
       "      <th>323917</th>\n",
       "      <td>8vuioDbp</td>\n",
       "      <td>2021-05-16 05:19:23</td>\n",
       "      <td>Rising Sun Classic</td>\n",
       "      <td>1200</td>\n",
       "      <td>5</td>\n",
       "      <td>Japan</td>\n",
       "      <td>Itabashi</td>\n",
       "      <td>Sunny</td>\n",
       "      <td>0.0013</td>\n",
       "      <td>0.009360</td>\n",
       "      <td>0.003120</td>\n",
       "      <td>0.001560</td>\n",
       "    </tr>\n",
       "    <tr>\n",
       "      <th>323918</th>\n",
       "      <td>8Vum9uPn</td>\n",
       "      <td>2021-05-20 11:15:07</td>\n",
       "      <td>Irish Oaks 2000</td>\n",
       "      <td>2000</td>\n",
       "      <td>3</td>\n",
       "      <td>Ireland</td>\n",
       "      <td>Cork</td>\n",
       "      <td>Sunny</td>\n",
       "      <td>0.0009</td>\n",
       "      <td>0.005832</td>\n",
       "      <td>0.001944</td>\n",
       "      <td>0.000972</td>\n",
       "    </tr>\n",
       "    <tr>\n",
       "      <th>323919</th>\n",
       "      <td>8VV6ofVz</td>\n",
       "      <td>2021-01-14 10:13:07</td>\n",
       "      <td>Sunderland Stakes</td>\n",
       "      <td>1400</td>\n",
       "      <td>3</td>\n",
       "      <td>United Kingdom</td>\n",
       "      <td>Sunderland</td>\n",
       "      <td>Sunny</td>\n",
       "      <td>0.0023</td>\n",
       "      <td>0.016560</td>\n",
       "      <td>0.005520</td>\n",
       "      <td>0.002760</td>\n",
       "    </tr>\n",
       "  </tbody>\n",
       "</table>\n",
       "</div>"
      ],
      "text/plain": [
       "         race_id           start_time                       name  distance  \\\n",
       "323915  8VuCmQco  2021-06-12 23:50:48  The Japan Derby Challenge      1200   \n",
       "323916    8vudDh  2021-04-09 06:23:03       Royal Wigan Hunt Cup      1200   \n",
       "323917  8vuioDbp  2021-05-16 05:19:23         Rising Sun Classic      1200   \n",
       "323918  8Vum9uPn  2021-05-20 11:15:07            Irish Oaks 2000      2000   \n",
       "323919  8VV6ofVz  2021-01-14 10:13:07          Sunderland Stakes      1400   \n",
       "\n",
       "        class         country        city weather     fee  prize_pool_first  \\\n",
       "323915      4           Japan     Edogawa   Sunny  0.0021          0.013608   \n",
       "323916      3  United Kingdom       Wigan   Sunny  0.0048          0.034560   \n",
       "323917      5           Japan    Itabashi   Sunny  0.0013          0.009360   \n",
       "323918      3         Ireland        Cork   Sunny  0.0009          0.005832   \n",
       "323919      3  United Kingdom  Sunderland   Sunny  0.0023          0.016560   \n",
       "\n",
       "        prize_pool_second  prize_pool_third  \n",
       "323915           0.005670          0.003402  \n",
       "323916           0.011520          0.005760  \n",
       "323917           0.003120          0.001560  \n",
       "323918           0.001944          0.000972  \n",
       "323919           0.005520          0.002760  "
      ]
     },
     "execution_count": 144,
     "metadata": {},
     "output_type": "execute_result"
    }
   ],
   "source": [
    "df.tail()"
   ]
  },
  {
   "cell_type": "code",
   "execution_count": 145,
   "id": "dd6cd694",
   "metadata": {},
   "outputs": [
    {
     "data": {
      "text/plain": [
       "race_id               object\n",
       "start_time            object\n",
       "name                  object\n",
       "distance               int64\n",
       "class                  int64\n",
       "country               object\n",
       "city                  object\n",
       "weather               object\n",
       "fee                  float64\n",
       "prize_pool_first     float64\n",
       "prize_pool_second    float64\n",
       "prize_pool_third     float64\n",
       "dtype: object"
      ]
     },
     "execution_count": 145,
     "metadata": {},
     "output_type": "execute_result"
    }
   ],
   "source": [
    "df.dtypes"
   ]
  },
  {
   "cell_type": "code",
   "execution_count": 146,
   "id": "b90eaaf7",
   "metadata": {},
   "outputs": [
    {
     "name": "stdout",
     "output_type": "stream",
     "text": [
      "<class 'pandas.core.frame.DataFrame'>\n",
      "RangeIndex: 323920 entries, 0 to 323919\n",
      "Data columns (total 12 columns):\n",
      " #   Column             Non-Null Count   Dtype  \n",
      "---  ------             --------------   -----  \n",
      " 0   race_id            323920 non-null  object \n",
      " 1   start_time         323920 non-null  object \n",
      " 2   name               323920 non-null  object \n",
      " 3   distance           323920 non-null  int64  \n",
      " 4   class              323920 non-null  int64  \n",
      " 5   country            323920 non-null  object \n",
      " 6   city               323920 non-null  object \n",
      " 7   weather            323920 non-null  object \n",
      " 8   fee                323920 non-null  float64\n",
      " 9   prize_pool_first   323920 non-null  float64\n",
      " 10  prize_pool_second  323920 non-null  float64\n",
      " 11  prize_pool_third   323920 non-null  float64\n",
      "dtypes: float64(4), int64(2), object(6)\n",
      "memory usage: 29.7+ MB\n"
     ]
    }
   ],
   "source": [
    "df.info()"
   ]
  },
  {
   "cell_type": "code",
   "execution_count": 147,
   "id": "add0e2cf",
   "metadata": {},
   "outputs": [
    {
     "data": {
      "text/html": [
       "<div>\n",
       "<style scoped>\n",
       "    .dataframe tbody tr th:only-of-type {\n",
       "        vertical-align: middle;\n",
       "    }\n",
       "\n",
       "    .dataframe tbody tr th {\n",
       "        vertical-align: top;\n",
       "    }\n",
       "\n",
       "    .dataframe thead th {\n",
       "        text-align: right;\n",
       "    }\n",
       "</style>\n",
       "<table border=\"1\" class=\"dataframe\">\n",
       "  <thead>\n",
       "    <tr style=\"text-align: right;\">\n",
       "      <th></th>\n",
       "      <th>distance</th>\n",
       "      <th>class</th>\n",
       "      <th>fee</th>\n",
       "      <th>prize_pool_first</th>\n",
       "      <th>prize_pool_second</th>\n",
       "      <th>prize_pool_third</th>\n",
       "    </tr>\n",
       "  </thead>\n",
       "  <tbody>\n",
       "    <tr>\n",
       "      <th>count</th>\n",
       "      <td>323920.000000</td>\n",
       "      <td>323920.00000</td>\n",
       "      <td>323920.000000</td>\n",
       "      <td>323920.000000</td>\n",
       "      <td>323920.000000</td>\n",
       "      <td>323920.000000</td>\n",
       "    </tr>\n",
       "    <tr>\n",
       "      <th>mean</th>\n",
       "      <td>1702.957520</td>\n",
       "      <td>3.70619</td>\n",
       "      <td>0.001824</td>\n",
       "      <td>0.012660</td>\n",
       "      <td>0.004938</td>\n",
       "      <td>0.002828</td>\n",
       "    </tr>\n",
       "    <tr>\n",
       "      <th>std</th>\n",
       "      <td>449.260556</td>\n",
       "      <td>1.31427</td>\n",
       "      <td>0.003308</td>\n",
       "      <td>0.022085</td>\n",
       "      <td>0.008565</td>\n",
       "      <td>0.004930</td>\n",
       "    </tr>\n",
       "    <tr>\n",
       "      <th>min</th>\n",
       "      <td>1000.000000</td>\n",
       "      <td>0.00000</td>\n",
       "      <td>0.000000</td>\n",
       "      <td>0.000000</td>\n",
       "      <td>0.000000</td>\n",
       "      <td>0.000000</td>\n",
       "    </tr>\n",
       "    <tr>\n",
       "      <th>25%</th>\n",
       "      <td>1400.000000</td>\n",
       "      <td>3.00000</td>\n",
       "      <td>0.000800</td>\n",
       "      <td>0.005184</td>\n",
       "      <td>0.002160</td>\n",
       "      <td>0.001200</td>\n",
       "    </tr>\n",
       "    <tr>\n",
       "      <th>50%</th>\n",
       "      <td>1600.000000</td>\n",
       "      <td>4.00000</td>\n",
       "      <td>0.001100</td>\n",
       "      <td>0.007776</td>\n",
       "      <td>0.002970</td>\n",
       "      <td>0.001782</td>\n",
       "    </tr>\n",
       "    <tr>\n",
       "      <th>75%</th>\n",
       "      <td>2000.000000</td>\n",
       "      <td>5.00000</td>\n",
       "      <td>0.002100</td>\n",
       "      <td>0.014256</td>\n",
       "      <td>0.005400</td>\n",
       "      <td>0.003000</td>\n",
       "    </tr>\n",
       "    <tr>\n",
       "      <th>max</th>\n",
       "      <td>2600.000000</td>\n",
       "      <td>5.00000</td>\n",
       "      <td>0.261500</td>\n",
       "      <td>1.694520</td>\n",
       "      <td>0.706050</td>\n",
       "      <td>0.423630</td>\n",
       "    </tr>\n",
       "  </tbody>\n",
       "</table>\n",
       "</div>"
      ],
      "text/plain": [
       "            distance         class            fee  prize_pool_first  \\\n",
       "count  323920.000000  323920.00000  323920.000000     323920.000000   \n",
       "mean     1702.957520       3.70619       0.001824          0.012660   \n",
       "std       449.260556       1.31427       0.003308          0.022085   \n",
       "min      1000.000000       0.00000       0.000000          0.000000   \n",
       "25%      1400.000000       3.00000       0.000800          0.005184   \n",
       "50%      1600.000000       4.00000       0.001100          0.007776   \n",
       "75%      2000.000000       5.00000       0.002100          0.014256   \n",
       "max      2600.000000       5.00000       0.261500          1.694520   \n",
       "\n",
       "       prize_pool_second  prize_pool_third  \n",
       "count      323920.000000     323920.000000  \n",
       "mean            0.004938          0.002828  \n",
       "std             0.008565          0.004930  \n",
       "min             0.000000          0.000000  \n",
       "25%             0.002160          0.001200  \n",
       "50%             0.002970          0.001782  \n",
       "75%             0.005400          0.003000  \n",
       "max             0.706050          0.423630  "
      ]
     },
     "execution_count": 147,
     "metadata": {},
     "output_type": "execute_result"
    }
   ],
   "source": [
    "df.describe()"
   ]
  },
  {
   "cell_type": "markdown",
   "id": "2a715d1b",
   "metadata": {},
   "source": [
    "# Correlation matrix\n",
    "Below, we see a higher entry fee correlates to a higher prize pool. Typical R/R ratio seen in gambling games."
   ]
  },
  {
   "cell_type": "code",
   "execution_count": 148,
   "id": "807da30f",
   "metadata": {},
   "outputs": [
    {
     "data": {
      "text/html": [
       "<div>\n",
       "<style scoped>\n",
       "    .dataframe tbody tr th:only-of-type {\n",
       "        vertical-align: middle;\n",
       "    }\n",
       "\n",
       "    .dataframe tbody tr th {\n",
       "        vertical-align: top;\n",
       "    }\n",
       "\n",
       "    .dataframe thead th {\n",
       "        text-align: right;\n",
       "    }\n",
       "</style>\n",
       "<table border=\"1\" class=\"dataframe\">\n",
       "  <thead>\n",
       "    <tr style=\"text-align: right;\">\n",
       "      <th></th>\n",
       "      <th>distance</th>\n",
       "      <th>class</th>\n",
       "      <th>fee</th>\n",
       "      <th>prize_pool_first</th>\n",
       "      <th>prize_pool_second</th>\n",
       "      <th>prize_pool_third</th>\n",
       "    </tr>\n",
       "  </thead>\n",
       "  <tbody>\n",
       "    <tr>\n",
       "      <th>distance</th>\n",
       "      <td>1.000000</td>\n",
       "      <td>-0.014479</td>\n",
       "      <td>0.004710</td>\n",
       "      <td>0.005896</td>\n",
       "      <td>0.005151</td>\n",
       "      <td>0.004548</td>\n",
       "    </tr>\n",
       "    <tr>\n",
       "      <th>class</th>\n",
       "      <td>-0.014479</td>\n",
       "      <td>1.000000</td>\n",
       "      <td>-0.113191</td>\n",
       "      <td>-0.149752</td>\n",
       "      <td>-0.144114</td>\n",
       "      <td>-0.138568</td>\n",
       "    </tr>\n",
       "    <tr>\n",
       "      <th>fee</th>\n",
       "      <td>0.004710</td>\n",
       "      <td>-0.113191</td>\n",
       "      <td>1.000000</td>\n",
       "      <td>0.995499</td>\n",
       "      <td>0.993146</td>\n",
       "      <td>0.982189</td>\n",
       "    </tr>\n",
       "    <tr>\n",
       "      <th>prize_pool_first</th>\n",
       "      <td>0.005896</td>\n",
       "      <td>-0.149752</td>\n",
       "      <td>0.995499</td>\n",
       "      <td>1.000000</td>\n",
       "      <td>0.992891</td>\n",
       "      <td>0.978385</td>\n",
       "    </tr>\n",
       "    <tr>\n",
       "      <th>prize_pool_second</th>\n",
       "      <td>0.005151</td>\n",
       "      <td>-0.144114</td>\n",
       "      <td>0.993146</td>\n",
       "      <td>0.992891</td>\n",
       "      <td>1.000000</td>\n",
       "      <td>0.996043</td>\n",
       "    </tr>\n",
       "    <tr>\n",
       "      <th>prize_pool_third</th>\n",
       "      <td>0.004548</td>\n",
       "      <td>-0.138568</td>\n",
       "      <td>0.982189</td>\n",
       "      <td>0.978385</td>\n",
       "      <td>0.996043</td>\n",
       "      <td>1.000000</td>\n",
       "    </tr>\n",
       "  </tbody>\n",
       "</table>\n",
       "</div>"
      ],
      "text/plain": [
       "                   distance     class       fee  prize_pool_first  \\\n",
       "distance           1.000000 -0.014479  0.004710          0.005896   \n",
       "class             -0.014479  1.000000 -0.113191         -0.149752   \n",
       "fee                0.004710 -0.113191  1.000000          0.995499   \n",
       "prize_pool_first   0.005896 -0.149752  0.995499          1.000000   \n",
       "prize_pool_second  0.005151 -0.144114  0.993146          0.992891   \n",
       "prize_pool_third   0.004548 -0.138568  0.982189          0.978385   \n",
       "\n",
       "                   prize_pool_second  prize_pool_third  \n",
       "distance                    0.005151          0.004548  \n",
       "class                      -0.144114         -0.138568  \n",
       "fee                         0.993146          0.982189  \n",
       "prize_pool_first            0.992891          0.978385  \n",
       "prize_pool_second           1.000000          0.996043  \n",
       "prize_pool_third            0.996043          1.000000  "
      ]
     },
     "execution_count": 148,
     "metadata": {},
     "output_type": "execute_result"
    }
   ],
   "source": [
    "df.corr(method ='pearson')"
   ]
  },
  {
   "cell_type": "markdown",
   "id": "ea22b188",
   "metadata": {},
   "source": [
    "# Class\n",
    "\n",
    "Class 5 is the lowest rated class, class 1 is the highest rated class.\n",
    "\n",
    "Each horse occupies a different class. After each race, a horse can regress, stay the same, or go up a class. My guess is that races are designated a class to serve as a load balancing mechanism: a horse can compete in a higher-tiered race outside of its current class, but cannot compete in a lower-tiered class. This way, players with powerful horses (of which there are fewer of) cannot endlessly pick on players with less powerful horses. Players with less powerful horses can continue to \"grind\" their way up to a higher rated class."
   ]
  },
  {
   "cell_type": "code",
   "execution_count": 149,
   "id": "dde03985",
   "metadata": {},
   "outputs": [
    {
     "data": {
      "text/plain": [
       "<AxesSubplot:title={'center':'Race class counts'}>"
      ]
     },
     "execution_count": 149,
     "metadata": {},
     "output_type": "execute_result"
    },
    {
     "data": {
      "image/png": "[encoded data removed]",
      "text/plain": [
       "<Figure size 720x360 with 1 Axes>"
      ]
     },
     "metadata": {
      "needs_background": "light"
     },
     "output_type": "display_data"
    }
   ],
   "source": [
    "df['class'].value_counts().plot(kind='bar', title='Race class counts')"
   ]
  },
  {
   "cell_type": "markdown",
   "id": "9325a1fa",
   "metadata": {},
   "source": [
    "# Distance\n",
    "\n",
    "Every horse has a distance preference attribute (I think stored off-chain and hidden). Each race has a defined distance. Because the attribute is hidden, you have to race your horse and find out over time where it does well. Interesting gameplay mechanic, I think."
   ]
  },
  {
   "cell_type": "code",
   "execution_count": 177,
   "id": "9d940d3f",
   "metadata": {},
   "outputs": [
    {
     "data": {
      "text/plain": [
       "<AxesSubplot:title={'center':'Distance counts'}>"
      ]
     },
     "execution_count": 177,
     "metadata": {},
     "output_type": "execute_result"
    },
    {
     "data": {
      "image/png": "[encoded data removed]",
      "text/plain": [
       "<Figure size 720x360 with 1 Axes>"
      ]
     },
     "metadata": {
      "needs_background": "light"
     },
     "output_type": "display_data"
    }
   ],
   "source": [
    "df['distance'].value_counts().plot(kind='bar', title='Distance counts')"
   ]
  },
  {
   "cell_type": "markdown",
   "id": "db0e5108",
   "metadata": {},
   "source": [
    "## Entry fee\n",
    "\n",
    "Every race has an entry fee, paid in WETH. The top three winners of a race win a prize. Note - none of this is normalized to account for price fluctuations."
   ]
  },
  {
   "cell_type": "code",
   "execution_count": 151,
   "id": "ae42e797",
   "metadata": {},
   "outputs": [
    {
     "data": {
      "image/png": "[encoded data removed]",
      "text/plain": [
       "<Figure size 720x360 with 1 Axes>"
      ]
     },
     "metadata": {
      "needs_background": "light"
     },
     "output_type": "display_data"
    }
   ],
   "source": [
    "x = df['fee']\n",
    "y = df['prize_pool_first']\n",
    "plt.scatter(x,y)\n",
    "\n",
    "z = np.polyfit(x, y, 1)\n",
    "p = np.poly1d(z)\n",
    "plt.plot(x,p(x),\"r--\")\n",
    "plt.title(\"Entry fee vs first prize pool\")\n",
    "plt.xlabel(\"Entry fee\")\n",
    "plt.ylabel(\"First prize pool\")\n",
    "    \n",
    "plt.show()"
   ]
  },
  {
   "cell_type": "markdown",
   "id": "4b067448",
   "metadata": {},
   "source": [
    "# Races\n",
    "A slow start early in the year followed by what looks like an upcoming ramp up period."
   ]
  },
  {
   "cell_type": "code",
   "execution_count": 178,
   "id": "1c8f7b0c",
   "metadata": {},
   "outputs": [
    {
     "data": {
      "text/plain": [
       "<AxesSubplot:xlabel='start_time,start_time'>"
      ]
     },
     "execution_count": 178,
     "metadata": {},
     "output_type": "execute_result"
    },
    {
     "data": {
      "image/png": "[encoded data removed]",
      "text/plain": [
       "<Figure size 720x360 with 1 Axes>"
      ]
     },
     "metadata": {
      "needs_background": "light"
     },
     "output_type": "display_data"
    }
   ],
   "source": [
    "df[\"start_time\"] = df[\"start_time\"].astype(\"datetime64\")\n",
    "df.groupby([df[\"start_time\"].dt.year, df[\"start_time\"].dt.month]).fee.count().plot(kind='bar')"
   ]
  }
 ],
 "metadata": {
  "kernelspec": {
   "display_name": "Python 3 (ipykernel)",
   "language": "python",
   "name": "python3"
  },
  "language_info": {
   "codemirror_mode": {
    "name": "ipython",
    "version": 3
   },
   "file_extension": ".py",
   "mimetype": "text/x-python",
   "name": "python",
   "nbconvert_exporter": "python",
   "pygments_lexer": "ipython3",
   "version": "3.8.10"
  }
 },
 "nbformat": 4,
 "nbformat_minor": 5
}
